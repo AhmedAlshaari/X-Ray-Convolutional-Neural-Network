{
  "nbformat": 4,
  "nbformat_minor": 0,
  "metadata": {
    "colab": {
      "name": "Lung X-ray Classification",
      "provenance": [],
      "authorship_tag": "ABX9TyNArPN1ucO04zY21LR4Z+zt",
      "include_colab_link": true
    },
    "kernelspec": {
      "name": "python3",
      "display_name": "Python 3"
    },
    "language_info": {
      "name": "python"
    },
    "accelerator": "GPU"
  },
  "cells": [
    {
      "cell_type": "markdown",
      "metadata": {
        "id": "view-in-github",
        "colab_type": "text"
      },
      "source": [
        "<a href=\"https://colab.research.google.com/github/AhmedAlshaari/AhmedAlshaari/blob/main/Lung_X_ray_Classification.ipynb\" target=\"_parent\"><img src=\"https://colab.research.google.com/assets/colab-badge.svg\" alt=\"Open In Colab\"/></a>"
      ]
    },
    {
      "cell_type": "markdown",
      "metadata": {
        "id": "1mLpEMyfFReT"
      },
      "source": [
        "# Ahmed Alshaari - Lung X-ray Classification\n",
        "\n",
        "---\n",
        "\n"
      ]
    },
    {
      "cell_type": "markdown",
      "metadata": {
        "id": "-qAlmLXBW3_D"
      },
      "source": [
        "This project aims to create a submission to participate in the kaggle competition which can be found [here](https://www.kaggle.com/c/cap-4611-spring-21-assignment-5/overview). The competition provides a dataset of Lung X-rays and the goal is to classify the type of lung damage into one of the following categories:\n",
        "\n",
        "* Normal (No damage)\n",
        "* Virus\n",
        "* Bacteria\n",
        "* Stress-smoking\n",
        "\n",
        "The submission created through this notebook achieved an accuracy of 71.79% which can also be found on the leaderboard of the Kaggle competition [here](https://www.kaggle.com/c/cap-4611-spring-21-assignment-5/leaderboard).\n"
      ]
    },
    {
      "cell_type": "markdown",
      "metadata": {
        "id": "SsP5cpSaWycA"
      },
      "source": [
        "### Imports"
      ]
    },
    {
      "cell_type": "code",
      "metadata": {
        "id": "EbFcd7N1a1Tg"
      },
      "source": [
        "import numpy as np # linear algebra\n",
        "import pandas as pd # data processing, CSV file I/O (e.g. pd.read_csv)\n",
        "import seaborn as sns # Graph\n",
        "import matplotlib.pyplot as plt # Graphs and plots\n",
        "import tensorflow as tf \n",
        "import os\n",
        "from tensorflow.keras.preprocessing import image_dataset_from_directory\n",
        "from tensorflow.keras.preprocessing.image import ImageDataGenerator\n",
        "#from keras.utils import get_file\n",
        "from google.colab import files \n",
        "import io \n",
        "from keras.models import Sequential\n",
        "from keras.layers import Dense, Conv2D, Flatten, Dropout, MaxPooling2D, Activation\n",
        "from keras import optimizers\n",
        "from tensorflow import keras\n",
        "from tensorflow.keras import layers"
      ],
      "execution_count": null,
      "outputs": []
    },
    {
      "cell_type": "markdown",
      "metadata": {
        "id": "UkBQtdW1W1rh"
      },
      "source": [
        "### Linking google drive and unzipping the folder that contains the data."
      ]
    },
    {
      "cell_type": "code",
      "metadata": {
        "id": "Zl5NyBFB_TW_"
      },
      "source": [
        "from google.colab import drive\n",
        "drive.mount('/content/gdrive')\n",
        "!unzip gdrive/My\\ Drive/cap-4611-spring-21-assignment-5.zip"
      ],
      "execution_count": null,
      "outputs": []
    },
    {
      "cell_type": "markdown",
      "metadata": {
        "id": "avqbZDWyXADY"
      },
      "source": [
        "Establishing the directory paths"
      ]
    },
    {
      "cell_type": "code",
      "metadata": {
        "id": "R71GCXIzdt-z"
      },
      "source": [
        "dir = '/content/data'\n",
        "\n",
        "train_csv_path = '/content/assignment5_training_data_metadata.csv'\n",
        "test_csv_path = '/content/assignment5_test_data_metadata.csv'\n",
        "\n",
        "train_csv = pd.read_csv(train_csv_path, index_col='id')\n",
        "test_csv = pd.read_csv(test_csv_path, index_col='id')"
      ],
      "execution_count": null,
      "outputs": []
    },
    {
      "cell_type": "markdown",
      "metadata": {
        "id": "PaJnemvtyh-E"
      },
      "source": [
        "### Taking a look at the data"
      ]
    },
    {
      "cell_type": "code",
      "metadata": {
        "colab": {
          "base_uri": "https://localhost:8080/",
          "height": 450
        },
        "id": "Edq_Kz35wJR2",
        "outputId": "9a44a2ad-0050-46ae-fd6f-ea44003088d3"
      },
      "source": [
        "train_csv"
      ],
      "execution_count": null,
      "outputs": [
        {
          "output_type": "execute_result",
          "data": {
            "text/html": [
              "<div>\n",
              "<style scoped>\n",
              "    .dataframe tbody tr th:only-of-type {\n",
              "        vertical-align: middle;\n",
              "    }\n",
              "\n",
              "    .dataframe tbody tr th {\n",
              "        vertical-align: top;\n",
              "    }\n",
              "\n",
              "    .dataframe thead th {\n",
              "        text-align: right;\n",
              "    }\n",
              "</style>\n",
              "<table border=\"1\" class=\"dataframe\">\n",
              "  <thead>\n",
              "    <tr style=\"text-align: right;\">\n",
              "      <th></th>\n",
              "      <th>image_name</th>\n",
              "      <th>label</th>\n",
              "      <th>cause</th>\n",
              "      <th>type</th>\n",
              "    </tr>\n",
              "    <tr>\n",
              "      <th>id</th>\n",
              "      <th></th>\n",
              "      <th></th>\n",
              "      <th></th>\n",
              "      <th></th>\n",
              "    </tr>\n",
              "  </thead>\n",
              "  <tbody>\n",
              "    <tr>\n",
              "      <th>0</th>\n",
              "      <td>IM-0128-0001.jpeg</td>\n",
              "      <td>Normal</td>\n",
              "      <td>NaN</td>\n",
              "      <td>NaN</td>\n",
              "    </tr>\n",
              "    <tr>\n",
              "      <th>1</th>\n",
              "      <td>IM-0127-0001.jpeg</td>\n",
              "      <td>Normal</td>\n",
              "      <td>NaN</td>\n",
              "      <td>NaN</td>\n",
              "    </tr>\n",
              "    <tr>\n",
              "      <th>2</th>\n",
              "      <td>IM-0125-0001.jpeg</td>\n",
              "      <td>Normal</td>\n",
              "      <td>NaN</td>\n",
              "      <td>NaN</td>\n",
              "    </tr>\n",
              "    <tr>\n",
              "      <th>3</th>\n",
              "      <td>IM-0122-0001.jpeg</td>\n",
              "      <td>Normal</td>\n",
              "      <td>NaN</td>\n",
              "      <td>NaN</td>\n",
              "    </tr>\n",
              "    <tr>\n",
              "      <th>4</th>\n",
              "      <td>IM-0119-0001.jpeg</td>\n",
              "      <td>Normal</td>\n",
              "      <td>NaN</td>\n",
              "      <td>NaN</td>\n",
              "    </tr>\n",
              "    <tr>\n",
              "      <th>...</th>\n",
              "      <td>...</td>\n",
              "      <td>...</td>\n",
              "      <td>...</td>\n",
              "      <td>...</td>\n",
              "    </tr>\n",
              "    <tr>\n",
              "      <th>5304</th>\n",
              "      <td>1-s2.0-S0929664620300449-gr2_lrg-c.jpg</td>\n",
              "      <td>Pnemonia</td>\n",
              "      <td>COVID-19</td>\n",
              "      <td>Virus</td>\n",
              "    </tr>\n",
              "    <tr>\n",
              "      <th>5305</th>\n",
              "      <td>1-s2.0-S0929664620300449-gr2_lrg-b.jpg</td>\n",
              "      <td>Pnemonia</td>\n",
              "      <td>COVID-19</td>\n",
              "      <td>Virus</td>\n",
              "    </tr>\n",
              "    <tr>\n",
              "      <th>5306</th>\n",
              "      <td>1-s2.0-S0929664620300449-gr2_lrg-a.jpg</td>\n",
              "      <td>Pnemonia</td>\n",
              "      <td>COVID-19</td>\n",
              "      <td>Virus</td>\n",
              "    </tr>\n",
              "    <tr>\n",
              "      <th>5307</th>\n",
              "      <td>1-s2.0-S0140673620303706-fx1_lrg.jpg</td>\n",
              "      <td>Pnemonia</td>\n",
              "      <td>COVID-19</td>\n",
              "      <td>Virus</td>\n",
              "    </tr>\n",
              "    <tr>\n",
              "      <th>5308</th>\n",
              "      <td>01E392EE-69F9-4E33-BFCE-E5C968654078.jpeg</td>\n",
              "      <td>Pnemonia</td>\n",
              "      <td>COVID-19</td>\n",
              "      <td>Virus</td>\n",
              "    </tr>\n",
              "  </tbody>\n",
              "</table>\n",
              "<p>5286 rows × 4 columns</p>\n",
              "</div>"
            ],
            "text/plain": [
              "                                     image_name     label     cause   type\n",
              "id                                                                        \n",
              "0                             IM-0128-0001.jpeg    Normal       NaN    NaN\n",
              "1                             IM-0127-0001.jpeg    Normal       NaN    NaN\n",
              "2                             IM-0125-0001.jpeg    Normal       NaN    NaN\n",
              "3                             IM-0122-0001.jpeg    Normal       NaN    NaN\n",
              "4                             IM-0119-0001.jpeg    Normal       NaN    NaN\n",
              "...                                         ...       ...       ...    ...\n",
              "5304     1-s2.0-S0929664620300449-gr2_lrg-c.jpg  Pnemonia  COVID-19  Virus\n",
              "5305     1-s2.0-S0929664620300449-gr2_lrg-b.jpg  Pnemonia  COVID-19  Virus\n",
              "5306     1-s2.0-S0929664620300449-gr2_lrg-a.jpg  Pnemonia  COVID-19  Virus\n",
              "5307       1-s2.0-S0140673620303706-fx1_lrg.jpg  Pnemonia  COVID-19  Virus\n",
              "5308  01E392EE-69F9-4E33-BFCE-E5C968654078.jpeg  Pnemonia  COVID-19  Virus\n",
              "\n",
              "[5286 rows x 4 columns]"
            ]
          },
          "metadata": {},
          "execution_count": 4
        }
      ]
    },
    {
      "cell_type": "code",
      "metadata": {
        "colab": {
          "base_uri": "https://localhost:8080/"
        },
        "id": "w94yxHTwbbwz",
        "outputId": "afd3c664-1d2e-4791-9bb1-f6f3588ed2a7"
      },
      "source": [
        "train_csv['type'].unique()"
      ],
      "execution_count": null,
      "outputs": [
        {
          "output_type": "execute_result",
          "data": {
            "text/plain": [
              "array([nan, 'Virus', 'bacteria', 'Stress-Smoking'], dtype=object)"
            ]
          },
          "metadata": {},
          "execution_count": 5
        }
      ]
    },
    {
      "cell_type": "markdown",
      "metadata": {
        "id": "1bBvToYmXLSw"
      },
      "source": [
        "### Missing Values\n",
        "The analysis above shows some NaN values that appear to be miss aligned as the picture is labeled normal, so those data points will be filled"
      ]
    },
    {
      "cell_type": "code",
      "metadata": {
        "id": "kFcHnMS-KK6Z"
      },
      "source": [
        "train_csv['type'].fillna('Normal', inplace=True)"
      ],
      "execution_count": null,
      "outputs": []
    },
    {
      "cell_type": "code",
      "metadata": {
        "colab": {
          "base_uri": "https://localhost:8080/"
        },
        "id": "PNJZuigKLKUu",
        "outputId": "89fa2f44-f588-4e7a-e067-2f219acd5d4e"
      },
      "source": [
        "train_csv.isnull().sum()"
      ],
      "execution_count": null,
      "outputs": [
        {
          "output_type": "execute_result",
          "data": {
            "text/plain": [
              "image_name       0\n",
              "label            0\n",
              "cause         5217\n",
              "type             0\n",
              "dtype: int64"
            ]
          },
          "metadata": {},
          "execution_count": 7
        }
      ]
    },
    {
      "cell_type": "code",
      "metadata": {
        "colab": {
          "base_uri": "https://localhost:8080/",
          "height": 450
        },
        "id": "U6wO-zHFLkJe",
        "outputId": "9efb7a0a-a181-41c8-fe52-e4a37420579b"
      },
      "source": [
        "train_csv"
      ],
      "execution_count": null,
      "outputs": [
        {
          "output_type": "execute_result",
          "data": {
            "text/html": [
              "<div>\n",
              "<style scoped>\n",
              "    .dataframe tbody tr th:only-of-type {\n",
              "        vertical-align: middle;\n",
              "    }\n",
              "\n",
              "    .dataframe tbody tr th {\n",
              "        vertical-align: top;\n",
              "    }\n",
              "\n",
              "    .dataframe thead th {\n",
              "        text-align: right;\n",
              "    }\n",
              "</style>\n",
              "<table border=\"1\" class=\"dataframe\">\n",
              "  <thead>\n",
              "    <tr style=\"text-align: right;\">\n",
              "      <th></th>\n",
              "      <th>image_name</th>\n",
              "      <th>label</th>\n",
              "      <th>cause</th>\n",
              "      <th>type</th>\n",
              "    </tr>\n",
              "    <tr>\n",
              "      <th>id</th>\n",
              "      <th></th>\n",
              "      <th></th>\n",
              "      <th></th>\n",
              "      <th></th>\n",
              "    </tr>\n",
              "  </thead>\n",
              "  <tbody>\n",
              "    <tr>\n",
              "      <th>0</th>\n",
              "      <td>IM-0128-0001.jpeg</td>\n",
              "      <td>Normal</td>\n",
              "      <td>NaN</td>\n",
              "      <td>Normal</td>\n",
              "    </tr>\n",
              "    <tr>\n",
              "      <th>1</th>\n",
              "      <td>IM-0127-0001.jpeg</td>\n",
              "      <td>Normal</td>\n",
              "      <td>NaN</td>\n",
              "      <td>Normal</td>\n",
              "    </tr>\n",
              "    <tr>\n",
              "      <th>2</th>\n",
              "      <td>IM-0125-0001.jpeg</td>\n",
              "      <td>Normal</td>\n",
              "      <td>NaN</td>\n",
              "      <td>Normal</td>\n",
              "    </tr>\n",
              "    <tr>\n",
              "      <th>3</th>\n",
              "      <td>IM-0122-0001.jpeg</td>\n",
              "      <td>Normal</td>\n",
              "      <td>NaN</td>\n",
              "      <td>Normal</td>\n",
              "    </tr>\n",
              "    <tr>\n",
              "      <th>4</th>\n",
              "      <td>IM-0119-0001.jpeg</td>\n",
              "      <td>Normal</td>\n",
              "      <td>NaN</td>\n",
              "      <td>Normal</td>\n",
              "    </tr>\n",
              "    <tr>\n",
              "      <th>...</th>\n",
              "      <td>...</td>\n",
              "      <td>...</td>\n",
              "      <td>...</td>\n",
              "      <td>...</td>\n",
              "    </tr>\n",
              "    <tr>\n",
              "      <th>5304</th>\n",
              "      <td>1-s2.0-S0929664620300449-gr2_lrg-c.jpg</td>\n",
              "      <td>Pnemonia</td>\n",
              "      <td>COVID-19</td>\n",
              "      <td>Virus</td>\n",
              "    </tr>\n",
              "    <tr>\n",
              "      <th>5305</th>\n",
              "      <td>1-s2.0-S0929664620300449-gr2_lrg-b.jpg</td>\n",
              "      <td>Pnemonia</td>\n",
              "      <td>COVID-19</td>\n",
              "      <td>Virus</td>\n",
              "    </tr>\n",
              "    <tr>\n",
              "      <th>5306</th>\n",
              "      <td>1-s2.0-S0929664620300449-gr2_lrg-a.jpg</td>\n",
              "      <td>Pnemonia</td>\n",
              "      <td>COVID-19</td>\n",
              "      <td>Virus</td>\n",
              "    </tr>\n",
              "    <tr>\n",
              "      <th>5307</th>\n",
              "      <td>1-s2.0-S0140673620303706-fx1_lrg.jpg</td>\n",
              "      <td>Pnemonia</td>\n",
              "      <td>COVID-19</td>\n",
              "      <td>Virus</td>\n",
              "    </tr>\n",
              "    <tr>\n",
              "      <th>5308</th>\n",
              "      <td>01E392EE-69F9-4E33-BFCE-E5C968654078.jpeg</td>\n",
              "      <td>Pnemonia</td>\n",
              "      <td>COVID-19</td>\n",
              "      <td>Virus</td>\n",
              "    </tr>\n",
              "  </tbody>\n",
              "</table>\n",
              "<p>5286 rows × 4 columns</p>\n",
              "</div>"
            ],
            "text/plain": [
              "                                     image_name     label     cause    type\n",
              "id                                                                         \n",
              "0                             IM-0128-0001.jpeg    Normal       NaN  Normal\n",
              "1                             IM-0127-0001.jpeg    Normal       NaN  Normal\n",
              "2                             IM-0125-0001.jpeg    Normal       NaN  Normal\n",
              "3                             IM-0122-0001.jpeg    Normal       NaN  Normal\n",
              "4                             IM-0119-0001.jpeg    Normal       NaN  Normal\n",
              "...                                         ...       ...       ...     ...\n",
              "5304     1-s2.0-S0929664620300449-gr2_lrg-c.jpg  Pnemonia  COVID-19   Virus\n",
              "5305     1-s2.0-S0929664620300449-gr2_lrg-b.jpg  Pnemonia  COVID-19   Virus\n",
              "5306     1-s2.0-S0929664620300449-gr2_lrg-a.jpg  Pnemonia  COVID-19   Virus\n",
              "5307       1-s2.0-S0140673620303706-fx1_lrg.jpg  Pnemonia  COVID-19   Virus\n",
              "5308  01E392EE-69F9-4E33-BFCE-E5C968654078.jpeg  Pnemonia  COVID-19   Virus\n",
              "\n",
              "[5286 rows x 4 columns]"
            ]
          },
          "metadata": {},
          "execution_count": 8
        }
      ]
    },
    {
      "cell_type": "markdown",
      "metadata": {
        "id": "CXF-eTQcXq4t"
      },
      "source": [
        "### Generatoring the image data and aligning it with the csv file."
      ]
    },
    {
      "cell_type": "code",
      "metadata": {
        "colab": {
          "base_uri": "https://localhost:8080/"
        },
        "id": "aVWQ8SanA-4v",
        "outputId": "7ea7e932-704d-488f-e8db-2f1e4e8e2629"
      },
      "source": [
        "size = (64, 64)\n",
        "\n",
        "gen = ImageDataGenerator(\n",
        "    validation_split=0.2,\n",
        "    rescale=1./255.,\n",
        "    rotation_range=90,\n",
        "  )\n",
        "\n",
        "train_dir = '/content/images/images/train'\n",
        "\n",
        "train_gen = gen.flow_from_dataframe(\n",
        "        train_csv,\n",
        "        directory=train_dir,\n",
        "        x_col='image_name',\n",
        "        y_col='type',\n",
        "        class_mode='categorical',\n",
        "        target_size=size,\n",
        "        color_mode='rgb',\n",
        "        batch_size = 64,\n",
        "        shuffle=True,\n",
        "        subset='training'\n",
        "      )\n",
        "\n",
        "val_gen = gen.flow_from_dataframe(\n",
        "        train_csv,\n",
        "        directory=train_dir,\n",
        "        x_col='image_name',\n",
        "        y_col='type',\n",
        "        class_mode='categorical',\n",
        "        target_size=size,\n",
        "        color_mode='rgb',\n",
        "        batch_size = 64,\n",
        "        shuffle=True,\n",
        "        subset='validation'\n",
        "      )"
      ],
      "execution_count": null,
      "outputs": [
        {
          "output_type": "stream",
          "name": "stdout",
          "text": [
            "Found 5286 validated image filenames belonging to 4 classes.\n"
          ]
        }
      ]
    },
    {
      "cell_type": "markdown",
      "metadata": {
        "id": "OKPVsFv1YBSN"
      },
      "source": [
        "Creating the model architecture by adding different layers. and then compiling the model. "
      ]
    },
    {
      "cell_type": "code",
      "metadata": {
        "id": "iS4dO84kL8Yt"
      },
      "source": [
        "model = Sequential()\n",
        "\n",
        "num_classes = len(train.class_indices)\n",
        "\n",
        "# First convolution layer with relu activation and padding with 0s\n",
        "model.add(Conv2D(32, (3, 3), padding='same'))\n",
        "model.add(Activation('relu'))\n",
        "\n",
        "# Second convolution layer with relu activation, and max pooling of only 2 pixels. Then a dropout layer to avoid overfitting\n",
        "model.add(Conv2D(32, (3, 3)))\n",
        "model.add(Activation('relu'))\n",
        "model.add(MaxPooling2D(pool_size=(2, 2)))\n",
        "model.add(Dropout(0.25))\n",
        "\n",
        "# Third convolution layer with relu activation and padding with 0s\n",
        "model.add(Conv2D(64, (3, 3), padding='same'))\n",
        "model.add(Activation('relu'))\n",
        "\n",
        "# Fourth convolution layer with relu activation, and max pooling of only 2 pixels. Then a dropout layer to avoid overfitting\n",
        "model.add(Conv2D(64, (3, 3)))\n",
        "model.add(Activation('relu'))\n",
        "model.add(MaxPooling2D(pool_size=(2, 2)))\n",
        "model.add(Dropout(0.25))\n",
        "\n",
        "# Flatten layer to match the shape of the previous layer with the Dense layer which will represent the output\n",
        "model.add(Flatten())\n",
        "model.add(Dense(512))\n",
        "model.add(Activation('relu'))\n",
        "model.add(Dropout(0.5))\n",
        "model.add(Dense(4, activation='softmax'))\n",
        "\n",
        "# Compiling the model with the adam optimizer and categorical crossentropy loss function\n",
        "model.compile(optimizer = 'adam', loss='categorical_crossentropy', metrics=['accuracy'])"
      ],
      "execution_count": null,
      "outputs": []
    },
    {
      "cell_type": "markdown",
      "metadata": {
        "id": "EPMGlbSkYTup"
      },
      "source": [
        "### Fitting the model with 100 epochs."
      ]
    },
    {
      "cell_type": "code",
      "metadata": {
        "id": "dx7remx_a5OF",
        "colab": {
          "base_uri": "https://localhost:8080/"
        },
        "outputId": "7d020107-a3f8-46c0-cdc5-1ef9c929e3f8"
      },
      "source": [
        "model.fit(train, epochs=70, steps_per_epoch=83)"
      ],
      "execution_count": null,
      "outputs": [
        {
          "output_type": "stream",
          "name": "stdout",
          "text": [
            "Epoch 1/70\n",
            "83/83 [==============================] - 68s 783ms/step - loss: 1.0394 - accuracy: 0.5100\n",
            "Epoch 2/70\n",
            "83/83 [==============================] - 67s 800ms/step - loss: 0.7496 - accuracy: 0.6621\n",
            "Epoch 3/70\n",
            "83/83 [==============================] - 65s 780ms/step - loss: 0.6825 - accuracy: 0.6930\n",
            "Epoch 4/70\n",
            "83/83 [==============================] - 65s 780ms/step - loss: 0.6545 - accuracy: 0.7060\n",
            "Epoch 5/70\n",
            "83/83 [==============================] - 64s 777ms/step - loss: 0.6557 - accuracy: 0.7124\n",
            "Epoch 6/70\n",
            "83/83 [==============================] - 64s 773ms/step - loss: 0.6086 - accuracy: 0.7325\n",
            "Epoch 7/70\n",
            "83/83 [==============================] - 64s 769ms/step - loss: 0.6282 - accuracy: 0.7215\n",
            "Epoch 8/70\n",
            "83/83 [==============================] - 65s 777ms/step - loss: 0.5863 - accuracy: 0.7452\n",
            "Epoch 9/70\n",
            "83/83 [==============================] - 65s 788ms/step - loss: 0.5804 - accuracy: 0.7437\n",
            "Epoch 10/70\n",
            "83/83 [==============================] - 65s 786ms/step - loss: 0.5634 - accuracy: 0.7520\n",
            "Epoch 11/70\n",
            "83/83 [==============================] - 65s 781ms/step - loss: 0.5487 - accuracy: 0.7594\n",
            "Epoch 12/70\n",
            "83/83 [==============================] - 64s 770ms/step - loss: 0.5456 - accuracy: 0.7635\n",
            "Epoch 13/70\n",
            "83/83 [==============================] - 65s 781ms/step - loss: 0.5484 - accuracy: 0.7586\n",
            "Epoch 14/70\n",
            "83/83 [==============================] - 66s 795ms/step - loss: 0.5497 - accuracy: 0.7609\n",
            "Epoch 15/70\n",
            "83/83 [==============================] - 67s 812ms/step - loss: 0.5309 - accuracy: 0.7673\n",
            "Epoch 16/70\n",
            "83/83 [==============================] - 66s 789ms/step - loss: 0.5304 - accuracy: 0.7662\n",
            "Epoch 17/70\n",
            "83/83 [==============================] - 65s 781ms/step - loss: 0.5247 - accuracy: 0.7713\n",
            "Epoch 18/70\n",
            "83/83 [==============================] - 65s 784ms/step - loss: 0.5311 - accuracy: 0.7715\n",
            "Epoch 19/70\n",
            "83/83 [==============================] - 65s 782ms/step - loss: 0.5259 - accuracy: 0.7749\n",
            "Epoch 20/70\n",
            "83/83 [==============================] - 65s 783ms/step - loss: 0.5179 - accuracy: 0.7758\n",
            "Epoch 21/70\n",
            "83/83 [==============================] - 65s 783ms/step - loss: 0.5129 - accuracy: 0.7781\n",
            "Epoch 22/70\n",
            "83/83 [==============================] - 66s 796ms/step - loss: 0.5155 - accuracy: 0.7760\n",
            "Epoch 23/70\n",
            "83/83 [==============================] - 66s 797ms/step - loss: 0.5057 - accuracy: 0.7787\n",
            "Epoch 24/70\n",
            "83/83 [==============================] - 66s 800ms/step - loss: 0.5162 - accuracy: 0.7739\n",
            "Epoch 25/70\n",
            "83/83 [==============================] - 66s 798ms/step - loss: 0.5005 - accuracy: 0.7773\n",
            "Epoch 26/70\n",
            "83/83 [==============================] - 66s 793ms/step - loss: 0.4998 - accuracy: 0.7841\n",
            "Epoch 27/70\n",
            "73/83 [=========================>....] - ETA: 7s - loss: 0.5058 - accuracy: 0.7757"
          ]
        }
      ]
    },
    {
      "cell_type": "markdown",
      "metadata": {
        "id": "Wqh6bzhAYZUS"
      },
      "source": [
        "### Generating Data for submission"
      ]
    },
    {
      "cell_type": "code",
      "metadata": {
        "id": "E_GdT7XKwePq"
      },
      "source": [
        "test_gen = ImageDataGenerator(\n",
        "    rescale=1./255.,\n",
        "    rotation_range=90,\n",
        "  )\n",
        "\n",
        "test_dir = '/content/images/images/test'\n",
        "\n",
        "test = test_gen.flow_from_dataframe(\n",
        "        test_csv,\n",
        "        directory=test_dir,\n",
        "        x_col='image_name',\n",
        "        class_mode=None,\n",
        "        target_size=size,\n",
        "        color_mode='rgb',\n",
        "        batch_size = 64,\n",
        "        shuffle=False\n",
        "      )"
      ],
      "execution_count": null,
      "outputs": []
    },
    {
      "cell_type": "markdown",
      "metadata": {
        "id": "l3ervCxnYdwc"
      },
      "source": [
        "### Predicting the target vector"
      ]
    },
    {
      "cell_type": "code",
      "metadata": {
        "id": "0uYN4vpjxgdv"
      },
      "source": [
        "predictions = np.argmax(model.predict(test), axis=-1)\n",
        "predictions"
      ],
      "execution_count": null,
      "outputs": []
    },
    {
      "cell_type": "markdown",
      "metadata": {
        "id": "AG10Jvh8YujM"
      },
      "source": [
        "### Fixing the labels on the target vector"
      ]
    },
    {
      "cell_type": "code",
      "metadata": {
        "id": "GQII6JFw0eDi"
      },
      "source": [
        "for i in range(624):\n",
        "  if (predictions[i] == 1):\n",
        "    predictions[i] = 4\n",
        "  if (predictions[i] == 0):\n",
        "    predictions[i] = 1\n",
        "\n",
        "predictions"
      ],
      "execution_count": null,
      "outputs": []
    },
    {
      "cell_type": "markdown",
      "metadata": {
        "id": "KKSxufjXYzkU"
      },
      "source": [
        "Generating output file for submission"
      ]
    },
    {
      "cell_type": "code",
      "metadata": {
        "id": "KHgsjt_oTqnw"
      },
      "source": [
        "output = pd.DataFrame({'id': test_csv.index, 'type': predictions})\n",
        "\n",
        "output.to_csv('/content' + '/submission-file.csv', index = False)\n",
        "print(\"Your submission was successfully saved!\")"
      ],
      "execution_count": null,
      "outputs": []
    }
  ]
}
